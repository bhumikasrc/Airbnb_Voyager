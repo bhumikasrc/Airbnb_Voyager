{
 "cells": [
  {
   "cell_type": "code",
   "execution_count": 1,
   "metadata": {},
   "outputs": [
    {
     "name": "stderr",
     "output_type": "stream",
     "text": [
      "/var/folders/2z/gd1p94dj1cqgnb_qpvfykfg40000gn/T/ipykernel_19400/2116648692.py:4: DtypeWarning: Columns (25) have mixed types. Specify dtype option on import or set low_memory=False.\n",
      "  df = pd.read_csv('Airbnb_Open_Data.csv')\n"
     ]
    }
   ],
   "source": [
    "import pandas as pd\n",
    "import numpy as np\n",
    "import matplotlib.pyplot as plt\n",
    "df = pd.read_csv('Airbnb_Open_Data.csv')"
   ]
  },
  {
   "cell_type": "code",
   "execution_count": 2,
   "metadata": {},
   "outputs": [
    {
     "name": "stdout",
     "output_type": "stream",
     "text": [
      "Before dropping duplicates: (102599, 26)\n",
      "After dropping the duplicates: (102058, 26)\n"
     ]
    }
   ],
   "source": [
    "#DROPPING DUPLICATE ROWS\n",
    "print('Before dropping duplicates:', df.shape)\n",
    "df = df.drop_duplicates()\n",
    "print('After dropping the duplicates:', df.shape)"
   ]
  },
  {
   "cell_type": "code",
   "execution_count": 3,
   "metadata": {},
   "outputs": [],
   "source": [
    "#DROPPING COLUMNS : country, country code, license, host name, host id \n",
    "df = df.drop(['country','country code','license','host name'], axis=1)"
   ]
  },
  {
   "cell_type": "code",
   "execution_count": 4,
   "metadata": {},
   "outputs": [],
   "source": [
    "#COLUMN : id\n",
    "\n",
    "#Changing the type as category\n",
    "df['id'] = df['id'].astype('category')"
   ]
  },
  {
   "cell_type": "code",
   "execution_count": 5,
   "metadata": {},
   "outputs": [
    {
     "data": {
      "text/plain": [
       "host_identity_verified\n",
       "unconfirmed    50944\n",
       "verified       50825\n",
       "Name: count, dtype: int64"
      ]
     },
     "execution_count": 5,
     "metadata": {},
     "output_type": "execute_result"
    }
   ],
   "source": [
    "#COLUMN : Host Identity Verified\n",
    "\n",
    "#Changing the type as category\n",
    "df['host_identity_verified'] = df['host_identity_verified'].astype('category')\n",
    "\n",
    "df['host_identity_verified'].value_counts()"
   ]
  },
  {
   "cell_type": "code",
   "execution_count": 6,
   "metadata": {},
   "outputs": [],
   "source": [
    "#COLUMN : Neighbourhood Group\n",
    "\n",
    "#Merging the misspellings: manhatan and brookln\n",
    "df['neighbourhood group'] = df['neighbourhood group'].replace('manhatan','Manhattan')\n",
    "df['neighbourhood group'] = df['neighbourhood group'].replace('brookln','Brooklyn')\n",
    "\n",
    "#Changing the type as category\n",
    "df['neighbourhood group'] = df['neighbourhood group'].astype('category')"
   ]
  },
  {
   "cell_type": "code",
   "execution_count": 7,
   "metadata": {},
   "outputs": [],
   "source": [
    "#COLUMN : Neighbourhood\n",
    "\n",
    "#Changing the type as category\n",
    "df['neighbourhood'] = df['neighbourhood'].astype('category')\n",
    "\n"
   ]
  },
  {
   "cell_type": "code",
   "execution_count": 8,
   "metadata": {},
   "outputs": [],
   "source": [
    "#COLUMNS : lat and long\n",
    "\n",
    "#Imputting missing values with the mean lat long of their neighborhoods\n",
    "\n",
    "#Manhattan East Village\n",
    "manhattan_eastvillage = df[(df['neighbourhood group'] == 'Manhattan') & (df['neighbourhood'] == 'East Village')]\n",
    "df.loc[(df['lat'].isna()) & (df['id'] == '1442624'), 'lat'] = manhattan_eastvillage['lat'].mean()\n",
    "df.loc[(df['long'].isna()) & (df['id'] == '1442624'), 'long'] = manhattan_eastvillage['long'].mean()\n",
    "\n",
    "#Manhattan West Village\n",
    "manhattan_westvillage = df[(df['neighbourhood group'] == 'Manhattan') & (df['neighbourhood'] == 'West Village')]\n",
    "df.loc[(df['lat'].isna()) & (df['id'] == '1450908'), 'lat'] = manhattan_westvillage['lat'].mean()\n",
    "df.loc[(df['long'].isna()) & (df['id'] == '1450908'), 'long'] = manhattan_westvillage['long'].mean()\n",
    "\n",
    "#Manhattan Flatiron District\n",
    "manhattan_flatiron = df[(df['neighbourhood group'] == 'Manhattan') & (df['neighbourhood'] == 'Flatiron District')]\n",
    "df.loc[(df['lat'].isna()) & (df['id'] == '1512766'), 'lat'] = manhattan_flatiron['lat'].mean()\n",
    "df.loc[(df['long'].isna()) & (df['id'] == '1512766'), 'long'] = manhattan_flatiron['long'].mean()\n",
    "\n",
    "#Manhattan Upper West Side\n",
    "manhattan_upperwest = df[(df['neighbourhood group'] == 'Manhattan') & (df['neighbourhood'] == 'Upper West Side')]\n",
    "df.loc[(df['lat'].isna()) & (df['id'] == '1545904'), 'lat'] = manhattan_upperwest['lat'].mean()\n",
    "df.loc[(df['long'].isna()) & (df['id'] == '1545904'), 'long'] = manhattan_upperwest['long'].mean()\n",
    "\n",
    "\n",
    "#Brooklyn Crown Heights\n",
    "brooklyn_crown = df[(df['neighbourhood group'] == 'Brooklyn') & (df['neighbourhood'] == 'Crown Heights')]\n",
    "df.loc[(df['lat'].isna()) & (df['id'] == '1431578'), 'lat'] = brooklyn_crown['lat'].mean()\n",
    "df.loc[(df['long'].isna()) & (df['id'] == '1431578'), 'long'] = brooklyn_crown['long'].mean()\n",
    "\n",
    "#Brooklyn GreenPoint\n",
    "brooklyn_green = df[(df['neighbourhood group'] == 'Brooklyn') & (df['neighbourhood'] == 'Greenpoint')]\n",
    "df.loc[(df['lat'].isna()) & (df['id'] == '1434892'), 'lat'] = brooklyn_green['lat'].mean()\n",
    "df.loc[(df['long'].isna()) & (df['id'] == '1434892'), 'long'] = brooklyn_green['long'].mean()\n",
    "df.loc[(df['lat'].isna()) & (df['id'] == '1490122'), 'lat'] = brooklyn_green['lat'].mean()\n",
    "df.loc[(df['long'].isna()) & (df['id'] == '1490122'), 'long'] = brooklyn_green['long'].mean()\n",
    "\n",
    "#Queens Elmhurst\n",
    "queens_elm = df[(df['neighbourhood group'] == 'Queens') & (df['neighbourhood'] == 'Elmhurst')]\n",
    "df.loc[(df['lat'].isna()) & (df['id'] == '1434892'), 'lat'] = queens_elm['lat'].mean()\n",
    "df.loc[(df['long'].isna()) & (df['id'] == '1434892'), 'long'] = queens_elm['long'].mean()\n"
   ]
  },
  {
   "cell_type": "code",
   "execution_count": 9,
   "metadata": {},
   "outputs": [],
   "source": [
    "#COLUMN : Instant Bookable\n",
    "\n",
    "#Changing the type as category\n",
    "df['instant_bookable'] = df['instant_bookable'].astype('category')\n",
    "\n",
    "#Mapping the true,false\n",
    "TF_dict = {True: '1', False: '0'}\n",
    "df['instant_bookable'] = df['instant_bookable'].map(TF_dict)"
   ]
  },
  {
   "cell_type": "code",
   "execution_count": 10,
   "metadata": {},
   "outputs": [],
   "source": [
    "#COLUMN : Cancellation Policy\n",
    "\n",
    "#Changing the type as category\n",
    "df['cancellation_policy'] = df['cancellation_policy'].astype('category')"
   ]
  },
  {
   "cell_type": "code",
   "execution_count": 11,
   "metadata": {},
   "outputs": [],
   "source": [
    "#COLUMN : Cancellation Policy\n",
    "\n",
    "#Changing the type as category\n",
    "df['cancellation_policy'] = df['cancellation_policy'].astype('category')"
   ]
  },
  {
   "cell_type": "code",
   "execution_count": 12,
   "metadata": {},
   "outputs": [],
   "source": [
    "#COLUMN : Room Type\n",
    "\n",
    "#Changing the type as category\n",
    "df['room type'] = df['room type'].astype('category')"
   ]
  },
  {
   "cell_type": "code",
   "execution_count": 13,
   "metadata": {},
   "outputs": [],
   "source": [
    "#COLUMN : Construction year -> New Column Created: Building Age\n",
    "\n",
    "#Changing the type as category\n",
    "df['Construction year'] = df['Construction year'].astype('category')"
   ]
  },
  {
   "cell_type": "code",
   "execution_count": 14,
   "metadata": {},
   "outputs": [],
   "source": [
    "#COLUMN : Building_Age\n",
    "\n",
    "#Sourcing the column from Construction Year\n",
    "df['Building_Age'] = df['Construction year']\n",
    "\n",
    "#Mapping the true,false\n",
    "Year_dict = {2022: 1, 2021: 2,2020: 3,2019: 4,2018: 5,2017: 6,2016: 7,2015: 8,2014: 9,2013: 10,2012: 11,2011: 12,2010: 13,2009: 14,2008: 15,2007: 16,2006: 17,2005: 18, 2004: 19,2003: 20}\n",
    "df['Building_Age'] = df['Building_Age'].map(Year_dict)"
   ]
  },
  {
   "cell_type": "code",
   "execution_count": 15,
   "metadata": {},
   "outputs": [],
   "source": [
    "#COLUMN : Price\n",
    "\n",
    "#Removing the non-numeric characters\n",
    "df['price'] = pd.to_numeric(df['price'].replace(r'\\D','',regex=True))\n",
    "\n",
    "#Replaces the missing value with the average price\n",
    "df['price'] = df['price'].fillna(df['price'].mean())"
   ]
  },
  {
   "cell_type": "code",
   "execution_count": 16,
   "metadata": {},
   "outputs": [],
   "source": [
    "#COLUMN : Service Fee\n",
    "\n",
    "#Removing the non-numeric characters\n",
    "df['service fee'] = pd.to_numeric(df['price'].replace(r'\\D','',regex=True))\n",
    "\n",
    "#Replaces the missing value with the average price\n",
    "df['service fee'] = df['service fee'].fillna(df['service fee'].mean())"
   ]
  },
  {
   "cell_type": "code",
   "execution_count": 17,
   "metadata": {},
   "outputs": [],
   "source": [
    "#COLUMN : Minimum Nights\n",
    "\n",
    "#Filtered minimum nights which are below 1 and more than 90 to eliminate the outliers\n",
    "df = df[(df['minimum nights'] >= 1) & (df['minimum nights'] <= 90)]"
   ]
  },
  {
   "cell_type": "code",
   "execution_count": 18,
   "metadata": {},
   "outputs": [],
   "source": [
    "#COLUMN : Number of Reviews\n",
    "\n",
    "#Filled the missing values with the median of the number of reviews.\n",
    "df['number of reviews'] = df['number of reviews'].fillna(df['number of reviews'].median())"
   ]
  },
  {
   "cell_type": "code",
   "execution_count": 19,
   "metadata": {},
   "outputs": [],
   "source": [
    "#COLUMN : Last Review\n",
    "\n",
    "#Changing the type as datetime\n",
    "df['last review'] = pd.to_datetime(df['last review'],format= '%m/%d/%Y',errors='coerce')"
   ]
  },
  {
   "cell_type": "code",
   "execution_count": 20,
   "metadata": {},
   "outputs": [],
   "source": [
    "#COLUMN : Review Rate Number\n",
    "\n",
    "#Filled the missing values with the median value.\n",
    "df['review rate number'] = df['review rate number'].fillna(df['review rate number'].median())"
   ]
  },
  {
   "cell_type": "code",
   "execution_count": 21,
   "metadata": {},
   "outputs": [],
   "source": [
    "#COLUMN : Calculated Host Listings Count\n",
    "\n",
    "#Filled the missing values with the median of the unique values\n",
    "unique_host_listings = pd.Series(df['calculated host listings count'].unique())\n",
    "df['calculated host listings count'] = df['calculated host listings count'].fillna(unique_host_listings.median())"
   ]
  },
  {
   "cell_type": "code",
   "execution_count": 22,
   "metadata": {},
   "outputs": [],
   "source": [
    "#COLUMN : House Rules\n",
    "\n",
    "#Changing the type as category\n",
    "df['house_rules'] = df['house_rules'].astype('category')"
   ]
  },
  {
   "cell_type": "code",
   "execution_count": 23,
   "metadata": {},
   "outputs": [],
   "source": [
    "#COLUMN : Reviews Per Month ?"
   ]
  },
  {
   "cell_type": "code",
   "execution_count": 24,
   "metadata": {},
   "outputs": [],
   "source": [
    "#COLUMN : Availability 365 ?"
   ]
  },
  {
   "cell_type": "code",
   "execution_count": 25,
   "metadata": {},
   "outputs": [
    {
     "name": "stdout",
     "output_type": "stream",
     "text": [
      "<class 'pandas.core.frame.DataFrame'>\n",
      "Index: 101221 entries, 0 to 102057\n",
      "Data columns (total 23 columns):\n",
      " #   Column                          Non-Null Count   Dtype         \n",
      "---  ------                          --------------   -----         \n",
      " 0   id                              101221 non-null  category      \n",
      " 1   NAME                            100980 non-null  object        \n",
      " 2   host id                         101221 non-null  int64         \n",
      " 3   host_identity_verified          100949 non-null  category      \n",
      " 4   neighbourhood group             101194 non-null  category      \n",
      " 5   neighbourhood                   101207 non-null  category      \n",
      " 6   lat                             101213 non-null  float64       \n",
      " 7   long                            101213 non-null  float64       \n",
      " 8   instant_bookable                101125 non-null  category      \n",
      " 9   cancellation_policy             101146 non-null  category      \n",
      " 10  room type                       101221 non-null  category      \n",
      " 11  Construction year               101020 non-null  category      \n",
      " 12  price                           101221 non-null  float64       \n",
      " 13  service fee                     101221 non-null  float64       \n",
      " 14  minimum nights                  101221 non-null  float64       \n",
      " 15  number of reviews               101221 non-null  float64       \n",
      " 16  last review                     85614 non-null   datetime64[ns]\n",
      " 17  reviews per month               85624 non-null   float64       \n",
      " 18  review rate number              101221 non-null  float64       \n",
      " 19  calculated host listings count  101221 non-null  float64       \n",
      " 20  availability 365                100798 non-null  float64       \n",
      " 21  house_rules                     49808 non-null   category      \n",
      " 22  Building_Age                    101020 non-null  category      \n",
      "dtypes: category(10), datetime64[ns](1), float64(10), int64(1), object(1)\n",
      "memory usage: 17.2+ MB\n",
      "None\n"
     ]
    }
   ],
   "source": [
    "print(df.info())"
   ]
  },
  {
   "cell_type": "code",
   "execution_count": 26,
   "metadata": {},
   "outputs": [],
   "source": [
    "df.to_csv('airbnb_version1.csv', index=False)"
   ]
  },
  {
   "cell_type": "code",
   "execution_count": 32,
   "metadata": {},
   "outputs": [
    {
     "data": {
      "text/plain": [
       "0.00    2003.0\n",
       "0.01    2003.0\n",
       "0.25    2007.0\n",
       "0.50    2012.0\n",
       "0.75    2017.0\n",
       "0.99    2022.0\n",
       "1.00    2022.0\n",
       "Name: Construction year, dtype: category\n",
       "Categories (20, float64): [2003.0, 2004.0, 2005.0, 2006.0, ..., 2019.0, 2020.0, 2021.0, 2022.0]"
      ]
     },
     "execution_count": 32,
     "metadata": {},
     "output_type": "execute_result"
    }
   ],
   "source": [
    "df['Construction year'].quantile([.0, 0.01, 0.25, 0.50, 0.75, 0.99, 1])"
   ]
  },
  {
   "cell_type": "code",
   "execution_count": 38,
   "metadata": {},
   "outputs": [
    {
     "data": {
      "text/html": [
       "<div>\n",
       "<style scoped>\n",
       "    .dataframe tbody tr th:only-of-type {\n",
       "        vertical-align: middle;\n",
       "    }\n",
       "\n",
       "    .dataframe tbody tr th {\n",
       "        vertical-align: top;\n",
       "    }\n",
       "\n",
       "    .dataframe thead th {\n",
       "        text-align: right;\n",
       "    }\n",
       "</style>\n",
       "<table border=\"1\" class=\"dataframe\">\n",
       "  <thead>\n",
       "    <tr style=\"text-align: right;\">\n",
       "      <th></th>\n",
       "      <th>number of reviews</th>\n",
       "      <th>price</th>\n",
       "      <th>review rate number</th>\n",
       "      <th>calculated host listings count</th>\n",
       "    </tr>\n",
       "  </thead>\n",
       "  <tbody>\n",
       "    <tr>\n",
       "      <th>count</th>\n",
       "      <td>101221.000000</td>\n",
       "      <td>101221.000000</td>\n",
       "      <td>101221.000000</td>\n",
       "      <td>101221.000000</td>\n",
       "    </tr>\n",
       "    <tr>\n",
       "      <th>mean</th>\n",
       "      <td>27.476502</td>\n",
       "      <td>625.469189</td>\n",
       "      <td>3.279468</td>\n",
       "      <td>8.059617</td>\n",
       "    </tr>\n",
       "    <tr>\n",
       "      <th>std</th>\n",
       "      <td>49.441459</td>\n",
       "      <td>331.186977</td>\n",
       "      <td>1.283043</td>\n",
       "      <td>32.296895</td>\n",
       "    </tr>\n",
       "    <tr>\n",
       "      <th>min</th>\n",
       "      <td>0.000000</td>\n",
       "      <td>50.000000</td>\n",
       "      <td>1.000000</td>\n",
       "      <td>1.000000</td>\n",
       "    </tr>\n",
       "    <tr>\n",
       "      <th>25%</th>\n",
       "      <td>1.000000</td>\n",
       "      <td>341.000000</td>\n",
       "      <td>2.000000</td>\n",
       "      <td>1.000000</td>\n",
       "    </tr>\n",
       "    <tr>\n",
       "      <th>50%</th>\n",
       "      <td>7.000000</td>\n",
       "      <td>625.355580</td>\n",
       "      <td>3.000000</td>\n",
       "      <td>1.000000</td>\n",
       "    </tr>\n",
       "    <tr>\n",
       "      <th>75%</th>\n",
       "      <td>30.000000</td>\n",
       "      <td>912.000000</td>\n",
       "      <td>4.000000</td>\n",
       "      <td>2.000000</td>\n",
       "    </tr>\n",
       "    <tr>\n",
       "      <th>max</th>\n",
       "      <td>1024.000000</td>\n",
       "      <td>1200.000000</td>\n",
       "      <td>5.000000</td>\n",
       "      <td>332.000000</td>\n",
       "    </tr>\n",
       "  </tbody>\n",
       "</table>\n",
       "</div>"
      ],
      "text/plain": [
       "       number of reviews          price  review rate number  \\\n",
       "count      101221.000000  101221.000000       101221.000000   \n",
       "mean           27.476502     625.469189            3.279468   \n",
       "std            49.441459     331.186977            1.283043   \n",
       "min             0.000000      50.000000            1.000000   \n",
       "25%             1.000000     341.000000            2.000000   \n",
       "50%             7.000000     625.355580            3.000000   \n",
       "75%            30.000000     912.000000            4.000000   \n",
       "max          1024.000000    1200.000000            5.000000   \n",
       "\n",
       "       calculated host listings count  \n",
       "count                   101221.000000  \n",
       "mean                         8.059617  \n",
       "std                         32.296895  \n",
       "min                          1.000000  \n",
       "25%                          1.000000  \n",
       "50%                          1.000000  \n",
       "75%                          2.000000  \n",
       "max                        332.000000  "
      ]
     },
     "execution_count": 38,
     "metadata": {},
     "output_type": "execute_result"
    }
   ],
   "source": [
    "df[['number of reviews','price','review rate number','calculated host listings count']].describe()"
   ]
  },
  {
   "cell_type": "code",
   "execution_count": 39,
   "metadata": {},
   "outputs": [
    {
     "data": {
      "text/plain": [
       "0.00     1.0\n",
       "0.01     1.0\n",
       "0.25     2.0\n",
       "0.50     3.0\n",
       "0.75     5.0\n",
       "0.99    31.0\n",
       "1.00    90.0\n",
       "Name: minimum nights, dtype: float64"
      ]
     },
     "execution_count": 39,
     "metadata": {},
     "output_type": "execute_result"
    }
   ],
   "source": [
    "df['minimum nights'].quantile([.0, 0.01, 0.25, 0.50, 0.75, 0.99, 1])"
   ]
  },
  {
   "cell_type": "code",
   "execution_count": null,
   "metadata": {},
   "outputs": [],
   "source": []
  }
 ],
 "metadata": {
  "kernelspec": {
   "display_name": "Python 3 (ipykernel)",
   "language": "python",
   "name": "python3"
  },
  "language_info": {
   "codemirror_mode": {
    "name": "ipython",
    "version": 3
   },
   "file_extension": ".py",
   "mimetype": "text/x-python",
   "name": "python",
   "nbconvert_exporter": "python",
   "pygments_lexer": "ipython3",
   "version": "3.11.4"
  }
 },
 "nbformat": 4,
 "nbformat_minor": 4
}
